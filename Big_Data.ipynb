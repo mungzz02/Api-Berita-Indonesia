{
  "nbformat": 4,
  "nbformat_minor": 0,
  "metadata": {
    "colab": {
      "provenance": [],
      "name": "Big Data.ipynb",
      "authorship_tag": "ABX9TyMDbGZoDejdVY1+NAMXq8NV",
      "include_colab_link": true
    },
    "kernelspec": {
      "name": "python3",
      "display_name": "Python 3"
    },
    "language_info": {
      "name": "python"
    }
  },
  "cells": [
    {
      "cell_type": "markdown",
      "metadata": {
        "id": "view-in-github",
        "colab_type": "text"
      },
      "source": [
        "<a href=\"https://colab.research.google.com/github/mungzz02/Api-Berita-Indonesia/blob/main/Big_Data.ipynb\" target=\"_parent\"><img src=\"https://colab.research.google.com/assets/colab-badge.svg\" alt=\"Open In Colab\"/></a>"
      ]
    },
    {
      "cell_type": "markdown",
      "source": [
        "Berita Indonesia"
      ],
      "metadata": {
        "id": "V_MmLKRQ1pRn"
      }
    },
    {
      "cell_type": "code",
      "source": [
        "import requests\n",
        "\n",
        "country_name = \"Malaysia\"\n",
        "url = f\"https://restcountries.com/v2/name/{country_name}\"\n",
        "response = requests.get(url)\n",
        "data = response.json()\n",
        "capital_city = data[0]['capital']\n",
        "print(f\"The capital of {country_name} is {capital_city}.\")"
      ],
      "metadata": {
        "id": "t1mlq4xY9tq4",
        "outputId": "a1e0c3d8-07db-4a67-d8e5-047c6179a10f",
        "colab": {
          "base_uri": "https://localhost:8080/"
        }
      },
      "execution_count": 6,
      "outputs": [
        {
          "output_type": "stream",
          "name": "stdout",
          "text": [
            "The capital of Malaysia is Kuala Lumpur.\n"
          ]
        }
      ]
    },
    {
      "cell_type": "markdown",
      "source": [],
      "metadata": {
        "id": "tUmUWFb991JR"
      }
    },
    {
      "cell_type": "code",
      "source": [
        "import requests\n",
        "\n",
        "# Isi dengan API key dari Indonesia News API\n",
        "api_key = \"2be896f6f9224b3191e46734c17c5ddf\"\n",
        "\n",
        "# Isi dengan kategori berita yang ingin dicari\n",
        "category = \"technology\"\n",
        "\n",
        "# Ambil informasi berita menggunakan Indonesia News API\n",
        "url = f\"https://newsapi.org/v2/top-headlines?country=id&category={category}&apiKey={api_key}\"\n",
        "response = requests.get(url)\n",
        "\n",
        "if response.status_code == 200:\n",
        "    # Data berita berhasil didapatkan\n",
        "    data = response.json()\n",
        "    articles = data[\"articles\"]\n",
        "    for article in articles:\n",
        "        article_title = article[\"title\"]\n",
        "        article_description = article[\"description\"]\n",
        "        article_url = article[\"url\"]\n",
        "        article_image = article[\"urlToImage\"]\n",
        "        print(f\"Judul Berita: {article_title}\")\n",
        "        print(f\"Ringkasan Berita: {article_description}\")\n",
        "        print(f\"URL: {article_url}\")\n",
        "        print(f\"Gambar: {article_image}\")\n",
        "        print(\"\\n\")\n",
        "else:\n",
        "    # Terjadi kesalahan dalam mengambil data\n",
        "    print(\"Maaf, terjadi kesalahan dalam mengambil data berita terkini.\")"
      ],
      "metadata": {
        "id": "Cyq9aU8z92BM",
        "outputId": "9f7503f9-a3cc-4e1a-db7e-0773d3b82c17",
        "colab": {
          "base_uri": "https://localhost:8080/"
        }
      },
      "execution_count": 7,
      "outputs": [
        {
          "output_type": "stream",
          "name": "stdout",
          "text": [
            "Judul Berita: Terbaru 2023, Link Download GB WhatsApp Versi Clone, Bisa Sembunyikan Status Sedang Mengetik - sumeks.disway.id - SUMEKS.CO\n",
            "Ringkasan Berita: None\n",
            "URL: https://news.google.com/rss/articles/CBMif2h0dHBzOi8vc3VtZWtzLmRpc3dheS5pZC9yZWFkLzY1Nzc1OC90ZXJiYXJ1LTIwMjMtbGluay1kb3dubG9hZC1nYi13aGF0c2FwcC12ZXJzaS1jbG9uZS1iaXNhLXNlbWJ1bnlpa2FuLXN0YXR1cy1zZWRhbmctbWVuZ2V0aWvSAX5odHRwczovL3N1bWVrcy5kaXN3YXkuaWQvYW1wLzY1Nzc1OC90ZXJiYXJ1LTIwMjMtbGluay1kb3dubG9hZC1nYi13aGF0c2FwcC12ZXJzaS1jbG9uZS1iaXNhLXNlbWJ1bnlpa2FuLXN0YXR1cy1zZWRhbmctbWVuZ2V0aWs?oc=5\n",
            "Gambar: None\n",
            "\n",
            "\n",
            "Judul Berita: Tecno Spark 10 NFC Meluncur di Indonesia, Bawa Kamera Boba Mirip iPhone, Harga Terjangkau - JPNN.com\n",
            "Ringkasan Berita: None\n",
            "URL: https://news.google.com/rss/articles/CBMicWh0dHBzOi8vd3d3Lmpwbm4uY29tL25ld3MvdGVjbm8tc3BhcmstMTAtbmZjLW1lbHVuY3VyLWRpLWluZG9uZXNpYS1iYXdhLWthbWVyYS1ib2JhLW1pcmlwLWlwaG9uZS1oYXJnYS10ZXJqYW5na2F10gFzaHR0cHM6Ly9tLmpwbm4uY29tL2FtcC9uZXdzL3RlY25vLXNwYXJrLTEwLW5mYy1tZWx1bmN1ci1kaS1pbmRvbmVzaWEtYmF3YS1rYW1lcmEtYm9iYS1taXJpcC1pcGhvbmUtaGFyZ2EtdGVyamFuZ2thdQ?oc=5\n",
            "Gambar: None\n",
            "\n",
            "\n",
            "Judul Berita: Harga Hp Samsung A14 5G, A34 5G, A54 5G, S23 Series, Hp Samsung Terbaru 2023 yang Mana Buat Lebaran? - Bangkapos.com - Bangkapos.com\n",
            "Ringkasan Berita: None\n",
            "URL: https://news.google.com/rss/articles/CBMiiAFodHRwczovL2JhbmdrYS50cmlidW5uZXdzLmNvbS8yMDIzLzAzLzI3L2hhcmdhLWhwLXNhbXN1bmctYTE0LTVnLWEzNC01Zy1hNTQtNWctczIzLXNlcmllcy1ocC1zYW1zdW5nLXRlcmJhcnUtMjAyMy15YW5nLW1hbmEtYnVhdC1sZWJhcmFu0gEA?oc=5\n",
            "Gambar: None\n",
            "\n",
            "\n",
            "Judul Berita: Vivo Luncurkan V27 5G di Indonesia, Usung Pembaruan Besar dengan Harga Tetap Sama Rp5.999.000 | Hybrid - Hybrid\n",
            "Ringkasan Berita: None\n",
            "URL: https://news.google.com/rss/articles/CBMidmh0dHBzOi8vaHlicmlkLmNvLmlkL3Bvc3Qvdml2by1sdW5jdXJrYW4tdjI3LTVnLWRpLWluZG9uZXNpYS11c3VuZy1wZW1iYXJ1YW4tYmVzYXItZGVuZ2FuLWhhcmdhLXRldGFwLXNhbWEtcnA1LTk5OS0wMDDSAQA?oc=5\n",
            "Gambar: None\n",
            "\n",
            "\n",
            "Judul Berita: Pemantau Gula Darah di Apple Watch Tunggu 7 Tahun Lagi - detikInet\n",
            "Ringkasan Berita: None\n",
            "URL: https://news.google.com/rss/articles/CBMiYGh0dHBzOi8vaW5ldC5kZXRpay5jb20vY29uc3VtZXIvZC02NjQxMTAyL3BlbWFudGF1LWd1bGEtZGFyYWgtZGktYXBwbGUtd2F0Y2gtdHVuZ2d1LTctdGFodW4tbGFnadIBZGh0dHBzOi8vaW5ldC5kZXRpay5jb20vY29uc3VtZXIvZC02NjQxMTAyL3BlbWFudGF1LWd1bGEtZGFyYWgtZGktYXBwbGUtd2F0Y2gtdHVuZ2d1LTctdGFodW4tbGFnaS9hbXA?oc=5\n",
            "Gambar: None\n",
            "\n",
            "\n",
            "Judul Berita: Pengguna iPhone Ganti ke HP Android, Dijamin Kangen Ini! - CNBC Indonesia\n",
            "Ringkasan Berita: None\n",
            "URL: https://news.google.com/rss/articles/CBMicmh0dHBzOi8vd3d3LmNuYmNpbmRvbmVzaWEuY29tL3RlY2gvMjAyMzAzMjcxNzUwNDQtMzctNDI0OTA4L3BlbmdndW5hLWlwaG9uZS1nYW50aS1rZS1ocC1hbmRyb2lkLWRpamFtaW4ta2FuZ2VuLWluadIBdmh0dHBzOi8vd3d3LmNuYmNpbmRvbmVzaWEuY29tL3RlY2gvMjAyMzAzMjcxNzUwNDQtMzctNDI0OTA4L3BlbmdndW5hLWlwaG9uZS1nYW50aS1rZS1ocC1hbmRyb2lkLWRpamFtaW4ta2FuZ2VuLWluaS9hbXA?oc=5\n",
            "Gambar: None\n",
            "\n",
            "\n",
            "Judul Berita: Mobile Experience Terbarukan di Galaxy S23 Series 5G dengan Snapdragon 8 Gen 2 for Galaxy - RADAR SEMARANG\n",
            "Ringkasan Berita: None\n",
            "URL: https://news.google.com/rss/articles/CBMikQFodHRwczovL3JhZGFyc2VtYXJhbmcuamF3YXBvcy5jb20vd2VidG9yaWFsLzIwMjMvMDMvMjcvbW9iaWxlLWV4cGVyaWVuY2UtdGVyYmFydWthbi1kaS1nYWxheHktczIzLXNlcmllcy01Zy1kZW5nYW4tc25hcGRyYWdvbi04LWdlbi0yLWZvci1nYWxheHkv0gEA?oc=5\n",
            "Gambar: None\n",
            "\n",
            "\n",
            "Judul Berita: Konsultasi Promil di Klinik Fertilitas, Ini yang Harus Diketahui - Siloam Hospitals\n",
            "Ringkasan Berita: None\n",
            "URL: https://news.google.com/rss/articles/CBMiW2h0dHBzOi8vd3d3LnNpbG9hbWhvc3BpdGFscy5jb20vaW5mb3JtYXNpLXNpbG9hbS9hcnRpa2VsL2tsaW5pay1mZXJ0aWxpdGFzLXNpbG9hbS1ob3NwaXRhbHPSAQA?oc=5\n",
            "Gambar: None\n",
            "\n",
            "\n",
            "Judul Berita: WhatsApp Garap Fitur Kirim Pesan Video Pendek untuk Pengguna iPhone - Liputan6.com\n",
            "Ringkasan Berita: None\n",
            "URL: https://news.google.com/rss/articles/CBMib2h0dHBzOi8vd3d3LmxpcHV0YW42LmNvbS90ZWtuby9yZWFkLzUyNDQxNTgvd2hhdHNhcHAtZ2FyYXAtZml0dXIta2lyaW0tcGVzYW4tdmlkZW8tcGVuZGVrLXVudHVrLXBlbmdndW5hLWlwaG9uZdIBaGh0dHBzOi8vd3d3LmxpcHV0YW42LmNvbS9hbXAvNTI0NDE1OC93aGF0c2FwcC1nYXJhcC1maXR1ci1raXJpbS1wZXNhbi12aWRlby1wZW5kZWstdW50dWstcGVuZ2d1bmEtaXBob25l?oc=5\n",
            "Gambar: None\n",
            "\n",
            "\n",
            "Judul Berita: 5 Cara Mengatasi Hotspot iPhone yang Tidak Tersambung dengan Mudah - SINDOnews Tekno\n",
            "Ringkasan Berita: None\n",
            "URL: https://news.google.com/rss/articles/CBMihwFodHRwczovL3Rla25vLnNpbmRvbmV3cy5jb20vcmVhZC8xMDU3NDI1LzIwNy81LWNhcmEtbWVuZ2F0YXNpLWhvdHNwb3QtaXBob25lLXlhbmctdGlkYWstdGVyc2FtYnVuZy1kZW5nYW4tbXVkYWgtMTY3OTkxODYxNz9zaG93cGFnZT1hbGzSAX5odHRwczovL3Rla25vLnNpbmRvbmV3cy5jb20vbmV3c3JlYWQvMTA1NzQyNS8yMDcvNS1jYXJhLW1lbmdhdGFzaS1ob3RzcG90LWlwaG9uZS15YW5nLXRpZGFrLXRlcnNhbWJ1bmctZGVuZ2FuLW11ZGFoLTE2Nzk5MTg2MTc?oc=5\n",
            "Gambar: None\n",
            "\n",
            "\n",
            "Judul Berita: 5 Fitur HP Paling Pasaran Tapi Jarang Dipakai, Simak! - CNBC Indonesia\n",
            "Ringkasan Berita: None\n",
            "URL: https://news.google.com/rss/articles/CBMib2h0dHBzOi8vd3d3LmNuYmNpbmRvbmVzaWEuY29tL3RlY2gvMjAyMzAzMjcxNjEyMjAtMzctNDI0ODc1LzUtZml0dXItaHAtcGFsaW5nLXBhc2FyYW4tdGFwaS1qYXJhbmctZGlwYWthaS1zaW1ha9IBc2h0dHBzOi8vd3d3LmNuYmNpbmRvbmVzaWEuY29tL3RlY2gvMjAyMzAzMjcxNjEyMjAtMzctNDI0ODc1LzUtZml0dXItaHAtcGFsaW5nLXBhc2FyYW4tdGFwaS1qYXJhbmctZGlwYWthaS1zaW1hay9hbXA?oc=5\n",
            "Gambar: None\n",
            "\n",
            "\n",
            "Judul Berita: Hype Counter-Strike 2, Jumlah Pemain CS:GO Kembali Pecahkan Rekor • Jagat Play - Jagat Play\n",
            "Ringkasan Berita: None\n",
            "URL: https://news.google.com/rss/articles/CBMiY2h0dHBzOi8vamFnYXRwbGF5LmNvbS8yMDIzLzAzL25ld3MvaHlwZS1jb3VudGVyLXN0cmlrZS0yLWp1bWxhaC1wZW1haW4tY3Nnby1rZW1iYWxpLXBlY2Foa2FuLXJla29yL9IBAA?oc=5\n",
            "Gambar: None\n",
            "\n",
            "\n",
            "Judul Berita: OpenAI Sediakan Plugin untuk Koneksikan ChatGPT dengan Internet - Info Komputer\n",
            "Ringkasan Berita: None\n",
            "URL: https://news.google.com/rss/articles/CBMidGh0dHBzOi8vaW5mb2tvbXB1dGVyLmdyaWQuaWQvcmVhZC8xMjM3NDE0MzEvb3BlbmFpLXNlZGlha2FuLXBsdWdpbi11bnR1ay1rb25la3Npa2FuLWNoYXRncHQtZGVuZ2FuLWludGVybmV0P3BhZ2U9YWxs0gFqaHR0cHM6Ly9pbmZva29tcHV0ZXIuZ3JpZC5pZC9hbXAvMTIzNzQxNDMxL29wZW5haS1zZWRpYWthbi1wbHVnaW4tdW50dWsta29uZWtzaWthbi1jaGF0Z3B0LWRlbmdhbi1pbnRlcm5ldA?oc=5\n",
            "Gambar: None\n",
            "\n",
            "\n",
            "Judul Berita: Karyawan Khawatir Headset MR Apple Akan Jadi Produk Gagal - detikInet\n",
            "Ringkasan Berita: None\n",
            "URL: https://news.google.com/rss/articles/CBMiY2h0dHBzOi8vaW5ldC5kZXRpay5jb20vY29uc3VtZXIvZC02NjQwOTU5L2thcnlhd2FuLWtoYXdhdGlyLWhlYWRzZXQtbXItYXBwbGUtYWthbi1qYWRpLXByb2R1ay1nYWdhbNIBZ2h0dHBzOi8vaW5ldC5kZXRpay5jb20vY29uc3VtZXIvZC02NjQwOTU5L2thcnlhd2FuLWtoYXdhdGlyLWhlYWRzZXQtbXItYXBwbGUtYWthbi1qYWRpLXByb2R1ay1nYWdhbC9hbXA?oc=5\n",
            "Gambar: None\n",
            "\n",
            "\n",
            "Judul Berita: Intel Rilis Platform vPro Terbarus Berbasis Intel Core Generasi ke 13 - Medcom.Id\n",
            "Ringkasan Berita: None\n",
            "URL: https://news.google.com/rss/articles/CBMifWh0dHBzOi8vd3d3Lm1lZGNvbS5pZC90ZWtub2xvZ2kvbmV3cy10ZWtub2xvZ2kveGtFMkdWWkstaW50ZWwtcmlsaXMtcGxhdGZvcm0tdnByby10ZXJiYXJ1cy1iZXJiYXNpcy1pbnRlbC1jb3JlLWdlbmVyYXNpLWtlLTEz0gFoaHR0cHM6Ly93d3cubWVkY29tLmlkL2FtcC94a0UyR1ZaSy1pbnRlbC1yaWxpcy1wbGF0Zm9ybS12cHJvLXRlcmJhcnVzLWJlcmJhc2lzLWludGVsLWNvcmUtZ2VuZXJhc2kta2UtMTM?oc=5\n",
            "Gambar: None\n",
            "\n",
            "\n",
            "Judul Berita: Karakter Ashley dari Resident Evil 4 Remake Gunakan Model Tubuh Cosplayer • Jagat Play - Jagat Play\n",
            "Ringkasan Berita: None\n",
            "URL: https://news.google.com/rss/articles/CBMibWh0dHBzOi8vamFnYXRwbGF5LmNvbS8yMDIzLzAzL25ld3Mva2FyYWt0ZXItYXNobGV5LWRhcmktcmVzaWRlbnQtZXZpbC00LXJlbWFrZS1ndW5ha2FuLW1vZGVsLXR1YnVoLWNvc3BsYXllci_SAQA?oc=5\n",
            "Gambar: None\n",
            "\n",
            "\n",
            "Judul Berita: Harga dan Spesifikasi Xiaomi 12 Series: Xiaomi 12 Lite, 12T, dan 12T Pro - Tribunnews.com\n",
            "Ringkasan Berita: None\n",
            "URL: https://news.google.com/rss/articles/CBMicmh0dHBzOi8vd3d3LnRyaWJ1bm5ld3MuY29tL3RlY2huby8yMDIzLzAzLzI3L2hhcmdhLWRhbi1zcGVzaWZpa2FzaS14aWFvbWktMTItc2VyaWVzLXhpYW9taS0xMi1saXRlLTEydC1kYW4tMTJ0LXByb9IBdGh0dHBzOi8vbS50cmlidW5uZXdzLmNvbS9hbXAvdGVjaG5vLzIwMjMvMDMvMjcvaGFyZ2EtZGFuLXNwZXNpZmlrYXNpLXhpYW9taS0xMi1zZXJpZXMteGlhb21pLTEyLWxpdGUtMTJ0LWRhbi0xMnQtcHJv?oc=5\n",
            "Gambar: None\n",
            "\n",
            "\n",
            "Judul Berita: 5 Solusi ChatGPT Tidak Bisa Dibuka - Okezone.com\n",
            "Ringkasan Berita: None\n",
            "URL: https://news.google.com/rss/articles/CBMiWGh0dHBzOi8vdGVjaG5vLm9rZXpvbmUuY29tL3JlYWQvMjAyMy8wMy8yNy81NC8yNzg3OTk3LzUtc29sdXNpLWNoYXRncHQtdGlkYWstYmlzYS1kaWJ1a2HSAVdodHRwczovL3RlY2huby5va2V6b25lLmNvbS9hbXAvMjAyMy8wMy8yNy81NC8yNzg3OTk3LzUtc29sdXNpLWNoYXRncHQtdGlkYWstYmlzYS1kaWJ1a2E?oc=5\n",
            "Gambar: None\n",
            "\n",
            "\n",
            "Judul Berita: Microsoft Minta Chatbot AI Kompetitor Tak Pakai Data Pencarian dari Bing - Liputan6.com\n",
            "Ringkasan Berita: None\n",
            "URL: https://news.google.com/rss/articles/CBMidGh0dHBzOi8vd3d3LmxpcHV0YW42LmNvbS90ZWtuby9yZWFkLzUyNDM4NjcvbWljcm9zb2Z0LW1pbnRhLWNoYXRib3QtYWkta29tcGV0aXRvci10YWstcGFrYWktZGF0YS1wZW5jYXJpYW4tZGFyaS1iaW5n0gFtaHR0cHM6Ly93d3cubGlwdXRhbjYuY29tL2FtcC81MjQzODY3L21pY3Jvc29mdC1taW50YS1jaGF0Ym90LWFpLWtvbXBldGl0b3ItdGFrLXBha2FpLWRhdGEtcGVuY2FyaWFuLWRhcmktYmluZw?oc=5\n",
            "Gambar: None\n",
            "\n",
            "\n",
            "Judul Berita: Microsoft Pecat Tim Pengawas, Janji Tetap Beretika Gunakan AI - CNN Indonesia\n",
            "Ringkasan Berita: None\n",
            "URL: https://news.google.com/rss/articles/CBMifWh0dHBzOi8vd3d3LmNubmluZG9uZXNpYS5jb20vdGVrbm9sb2dpLzIwMjMwMzI3MTEzMTU2LTE4NS05Mjk3NjEvbWljcm9zb2Z0LXBlY2F0LXRpbS1wZW5nYXdhcy1qYW5qaS10ZXRhcC1iZXJldGlrYS1ndW5ha2FuLWFp0gGBAWh0dHBzOi8vd3d3LmNubmluZG9uZXNpYS5jb20vdGVrbm9sb2dpLzIwMjMwMzI3MTEzMTU2LTE4NS05Mjk3NjEvbWljcm9zb2Z0LXBlY2F0LXRpbS1wZW5nYXdhcy1qYW5qaS10ZXRhcC1iZXJldGlrYS1ndW5ha2FuLWFpL2FtcA?oc=5\n",
            "Gambar: None\n",
            "\n",
            "\n"
          ]
        }
      ]
    }
  ]
}